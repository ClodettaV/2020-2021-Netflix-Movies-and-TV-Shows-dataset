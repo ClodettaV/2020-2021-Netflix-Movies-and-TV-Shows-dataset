{
 "cells": [
  {
   "cell_type": "code",
   "execution_count": 69,
   "metadata": {},
   "outputs": [
    {
     "data": {
      "text/plain": [
       "{'type': 'FeatureCollection',\n",
       " 'features': [],\n",
       " 'properties': {'fields': {},\n",
       "  'attribution': 'Implemented: <a target=\"_blank\" href=\"http://www.topoi.org\">Topoi</a> and <a target=\"_blank\" href=\"https://www.mpiwg-berlin.mpg.de\">MPIWG</a>',\n",
       "  'description': 'Displaying GeoJson Data from Pandas Dataframe'}}"
      ]
     },
     "execution_count": 69,
     "metadata": {},
     "output_type": "execute_result"
    }
   ],
   "source": [
    "import pandas as pd\n",
    "from convert2geojson import Convert2GeoJson\n",
    "\n",
    "df2 = pd.read_csv(\"countries.csv\")\n",
    "df2=df2[['COUNTRY','longitude','latitude']]\n",
    "df2=df2.rename(columns={\"COUNTRY\": \"country\"})\n",
    "\n",
    "df3 = {'COUNTRY': '', 'longitude': 0, 'latitude':0}\n",
    "\n",
    "# df2 = df3.append(df2, ignore_index = True)\n",
    "df2.loc[250] = ['', 0, 0]\n",
    "\n",
    "df2.tail()\n",
    "df4=df2.head(20)\n",
    "data = Convert2GeoJson(df4,df4.columns,lat=\"latitude\",lon=\"longitude\")\n",
    "data.convert()\n",
    "data.geojson()\n",
    "# len(df4)"
   ]
  },
  {
   "cell_type": "code",
   "execution_count": null,
   "metadata": {},
   "outputs": [],
   "source": []
  },
  {
   "cell_type": "code",
   "execution_count": 70,
   "metadata": {},
   "outputs": [],
   "source": [
    "df1 = pd.read_csv(\"netflix_movies_tvshows.csv\")\n",
    "df1=df1.set_index('country')\n",
    "df1=df1.head(10)"
   ]
  },
  {
   "cell_type": "code",
   "execution_count": 44,
   "metadata": {},
   "outputs": [
    {
     "data": {
      "text/html": [
       "<div>\n",
       "<style scoped>\n",
       "    .dataframe tbody tr th:only-of-type {\n",
       "        vertical-align: middle;\n",
       "    }\n",
       "\n",
       "    .dataframe tbody tr th {\n",
       "        vertical-align: top;\n",
       "    }\n",
       "\n",
       "    .dataframe thead th {\n",
       "        text-align: right;\n",
       "    }\n",
       "</style>\n",
       "<table border=\"1\" class=\"dataframe\">\n",
       "  <thead>\n",
       "    <tr style=\"text-align: right;\">\n",
       "      <th></th>\n",
       "      <th>country</th>\n",
       "      <th>show_id</th>\n",
       "      <th>type</th>\n",
       "      <th>title</th>\n",
       "      <th>director</th>\n",
       "      <th>cast</th>\n",
       "      <th>date_added</th>\n",
       "      <th>release_year</th>\n",
       "      <th>rating</th>\n",
       "      <th>duration</th>\n",
       "      <th>listed_in</th>\n",
       "      <th>description</th>\n",
       "      <th>longitude</th>\n",
       "      <th>latitude</th>\n",
       "    </tr>\n",
       "  </thead>\n",
       "  <tbody>\n",
       "    <tr>\n",
       "      <th>0</th>\n",
       "      <td>United States</td>\n",
       "      <td>s1</td>\n",
       "      <td>Movie</td>\n",
       "      <td>Dick Johnson Is Dead</td>\n",
       "      <td>Kirsten Johnson</td>\n",
       "      <td>NaN</td>\n",
       "      <td>September 25, 2021</td>\n",
       "      <td>2020</td>\n",
       "      <td>PG-13</td>\n",
       "      <td>90 min</td>\n",
       "      <td>Documentaries</td>\n",
       "      <td>As her father nears the end of his life, filmm...</td>\n",
       "      <td>-127.763857</td>\n",
       "      <td>42.464272</td>\n",
       "    </tr>\n",
       "  </tbody>\n",
       "</table>\n",
       "</div>"
      ],
      "text/plain": [
       "         country show_id   type                 title         director cast  \\\n",
       "0  United States      s1  Movie  Dick Johnson Is Dead  Kirsten Johnson  NaN   \n",
       "\n",
       "           date_added  release_year rating duration      listed_in  \\\n",
       "0  September 25, 2021          2020  PG-13   90 min  Documentaries   \n",
       "\n",
       "                                         description   longitude   latitude  \n",
       "0  As her father nears the end of his life, filmm... -127.763857  42.464272  "
      ]
     },
     "execution_count": 44,
     "metadata": {},
     "output_type": "execute_result"
    }
   ],
   "source": [
    "# pd.concat([df1,df2.reindex(df1.index)],axis=1)\n",
    "df1 = df1.merge(df2, on='country', how='left')\n",
    "df1['longitude'] = df1['longitude'].fillna(0)\n",
    "df1['latitude'] = df1['latitude'].fillna(0)\n",
    "\n",
    "df1"
   ]
  },
  {
   "cell_type": "code",
   "execution_count": null,
   "metadata": {},
   "outputs": [],
   "source": [
    "import sql\n",
    "engine.execu"
   ]
  }
 ],
 "metadata": {
  "interpreter": {
   "hash": "ff8057c7ebda6faa143cc8c59f248a16837b2e53a6bd48006e7be780c9775e7b"
  },
  "kernelspec": {
   "display_name": "Python 3.7.11 64-bit ('PythonData': conda)",
   "language": "python",
   "name": "python3"
  },
  "language_info": {
   "codemirror_mode": {
    "name": "ipython",
    "version": 3
   },
   "file_extension": ".py",
   "mimetype": "text/x-python",
   "name": "python",
   "nbconvert_exporter": "python",
   "pygments_lexer": "ipython3",
   "version": "3.7.11"
  },
  "orig_nbformat": 4
 },
 "nbformat": 4,
 "nbformat_minor": 2
}
